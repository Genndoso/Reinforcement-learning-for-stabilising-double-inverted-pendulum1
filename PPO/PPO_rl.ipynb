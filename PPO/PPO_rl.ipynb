{
 "cells": [
  {
   "cell_type": "code",
   "execution_count": 1,
   "id": "0ddd44a4",
   "metadata": {},
   "outputs": [],
   "source": [
    "import sys\n",
    "sys.path.append('C:\\\\Users\\\\Максимилиан\\\\Desktop\\\\Skoltech\\\\Reinforcement learning\\\\Final project')\n",
    "from Dynamics import get_next_state, state_to_coords, get_energy,normalize_angle\n",
    "from Environment import DoublePendulumEnv, ObservationSpaceCartPole\n",
    "from PPO.Proximal_Policy_Optimization import PPO, unscaled_action\n",
    "from PPO.train import train\n",
    "from PPO.config_PPO import config"
   ]
  },
  {
   "cell_type": "code",
   "execution_count": 2,
   "id": "2ad651c9",
   "metadata": {},
   "outputs": [],
   "source": [
    "from torch import nn\n",
    "import torch\n",
    "from torch.utils.tensorboard import SummaryWriter\n",
    "import gym\n",
    "from torch.distributions import Normal\n",
    "from gym.spaces import Box\n",
    "import random\n",
    "from IPython.display import clear_output\n",
    "from torch.distributions import MultivariateNormal\n",
    "import numpy as np\n",
    "import matplotlib.pyplot as plt"
   ]
  },
  {
   "cell_type": "code",
   "execution_count": 3,
   "id": "9d37f5d0",
   "metadata": {},
   "outputs": [],
   "source": [
    "import os\n",
    "os.environ[\"KMP_DUPLICATE_LIB_OK\"]=\"TRUE\""
   ]
  },
  {
   "cell_type": "code",
   "execution_count": 4,
   "id": "e98b69ae",
   "metadata": {},
   "outputs": [],
   "source": [
    "state0 = np.array([0,np.pi/2,np.pi/2,\n",
    "                0,0,0])\n",
    "state = state0\n",
    "state\n",
    "#max_initial_angle = 3 * 2 * np.pi / 360\n",
    "max_initial_angle = 0\n",
    "dt = 0.02"
   ]
  },
  {
   "cell_type": "code",
   "execution_count": 5,
   "id": "b9be1097",
   "metadata": {},
   "outputs": [
    {
     "data": {
      "text/plain": [
       "array([0., 0.])"
      ]
     },
     "execution_count": 5,
     "metadata": {},
     "output_type": "execute_result"
    }
   ],
   "source": [
    "oords = np.array(state_to_coords(state)[:, 0])\n",
    "oords"
   ]
  },
  {
   "cell_type": "code",
   "execution_count": 6,
   "id": "638913a1",
   "metadata": {},
   "outputs": [
    {
     "name": "stderr",
     "output_type": "stream",
     "text": [
      "C:\\ProgramData\\Anaconda3\\lib\\site-packages\\scipy\\integrate\\odepack.py:247: ODEintWarning: Excess work done on this call (perhaps wrong Dfun type). Run with full_output = 1 to get quantitative information.\n",
      "  warnings.warn(warning_msg, ODEintWarning)\n"
     ]
    },
    {
     "data": {
      "text/plain": [
       "array([ 57.09394275,  -2.53782625,  -2.52245306,  68.56067285,\n",
       "         3.83151235, -23.02406187])"
      ]
     },
     "execution_count": 6,
     "metadata": {},
     "output_type": "execute_result"
    }
   ],
   "source": [
    "get_next_state(state,100,10)"
   ]
  },
  {
   "cell_type": "markdown",
   "id": "d455d941",
   "metadata": {},
   "source": [
    "# Environment"
   ]
  },
  {
   "cell_type": "code",
   "execution_count": 7,
   "id": "2dcf327d",
   "metadata": {},
   "outputs": [
    {
     "name": "stdout",
     "output_type": "stream",
     "text": [
      "Environment initialized\n"
     ]
    },
    {
     "name": "stderr",
     "output_type": "stream",
     "text": [
      "C:\\Users\\Максимилиан\\AppData\\Roaming\\Python\\Python38\\site-packages\\gym\\spaces\\box.py:73: UserWarning: \u001b[33mWARN: Box bound precision lowered by casting to float64\u001b[0m\n",
      "  logger.warn(\n"
     ]
    }
   ],
   "source": [
    "env = DoublePendulumEnv(init_state=state, dt=config['dt'], max_initial_angle = 0)"
   ]
  },
  {
   "cell_type": "code",
   "execution_count": 8,
   "id": "4c509dce",
   "metadata": {},
   "outputs": [
    {
     "data": {
      "text/plain": [
       "1"
      ]
     },
     "execution_count": 8,
     "metadata": {},
     "output_type": "execute_result"
    }
   ],
   "source": [
    "env.action_space.shape[0]"
   ]
  },
  {
   "cell_type": "code",
   "execution_count": 9,
   "id": "fe53bb04",
   "metadata": {},
   "outputs": [],
   "source": [
    "\n",
    "def train():\n",
    "    print(\"============================================================================================\")\n",
    "    # max. timestep per episode. For DoubleCartPoleEnv, time constraint is 200 timesteps. After that environment is\n",
    "    # reset.\n",
    "    max_ep_len = config['max_episode_length']\n",
    "    # The training phase will sample and update for 1 million timestep.\n",
    "    max_training_steps = int(config['max_training_steps'])\n",
    "\n",
    "    # In order, to check ongoing progress, average reward is printed at every 10_000 timesteps.\n",
    "    print_freq = 10_000\n",
    "\n",
    "    # Saving model parameters at every 1_00_000 timesteps.\n",
    "    save_model_freq = int(config['save_model_freq'])\n",
    "\n",
    "    action_std = config['action_std']  # Initial standard deviation.\n",
    "    action_std_decay_rate = config['action_std_decay_rate']  # Decay rate of standard deviation.\n",
    "    min_action_std = config['min_action_std']  # Threshold standard deviation.\n",
    "    action_std_decay_freq = int(2e5)  # Decay the standard deviation every 200000 timesteps\n",
    "\n",
    "    update_timestep = config['update_timestep']  # set old_policy parameters to new_policy parameters.\n",
    "    K_epochs = config['max_number_of_epoch']  # Number of epochs before updating old policy parameters.\n",
    "    eps_clip = config['eps_clip']  # clip range for surrogate loss function.\n",
    "    gamma = config['gamma']  # Discount factor.\n",
    "\n",
    "    lr_actor = config['lr_actor']  # Learning rate for optimizer of actor network.\n",
    "    lr_critic = config['lr_critic']  # Learning rate for optimizer of critic network.\n",
    "    env_name = 'DoubleInvPendulum'\n",
    "    print(\"Training Environment:\" + env_name)\n",
    "    \n",
    "    \n",
    "    \n",
    "    env = DoublePendulumEnv(init_state=state, dt=config['dt'], max_initial_angle = 0)\n",
    "\n",
    "    observation_shape = env.observation_space.shape[0]  # Observation shape\n",
    "    action_shape = env.action_space.shape[0]  # Action shape\n",
    "\n",
    "    directory = \"PPO4_Trained\"\n",
    "    if not os.path.exists(directory):\n",
    "        os.makedirs(directory)\n",
    "\n",
    "    directory = directory + '/'\n",
    "    if not os.path.exists(directory):\n",
    "        os.makedirs(directory)\n",
    "\n",
    "\n",
    "    checkpoint_path = directory + \"PPO4_{}.pth\".format(env_name)\n",
    "\n",
    "\n",
    "    print(\"--------------------------------------------------------------------------------------------\")\n",
    "    print(\"PPO update frequency : \" + str(update_timestep) + \" timesteps\")\n",
    "    print(\"PPO K epochs : \", K_epochs)\n",
    "    print(\"PPO epsilon clip : \", eps_clip)\n",
    "    print(\"discount factor (gamma) : \", gamma)\n",
    "    print(\"--------------------------------------------------------------------------------------------\")\n",
    "    print(\"optimizer learning rate actor : \", lr_actor)\n",
    "    print(\"optimizer learning rate critic : \", lr_critic)\n",
    "\n",
    "    print(\"============================================================================================\")\n",
    "\n",
    "    agent = PPO(observation_shape,\n",
    "                action_shape,\n",
    "     )\n",
    "\n",
    "\n",
    "    print(\"============================================================================================\")\n",
    "\n",
    "    # To keep track of the progress\n",
    "    print_running_reward = 0\n",
    "    print_running_episodes = 0\n",
    "\n",
    "    time_step = 0\n",
    "    i_episode = 0\n",
    "    counter = 0\n",
    "\n",
    "    plot_episode = []\n",
    "    plot_reward = []\n",
    "\n",
    "    while time_step <= max_training_steps:\n",
    "        obs, done = env.reset()\n",
    "        current_ep_reward = 0\n",
    "        for t in range(1, max_ep_len + 1):\n",
    "            \n",
    "            action = agent.select_action(obs)  # Get action under old_policy given state.\n",
    "#             if u > 1 or u < -1:\n",
    "#                 print(u)\n",
    "            #action = unscaled_action(action)  # Unscale the action.\n",
    "           \n",
    "             \n",
    "            obs, reward, done, _ = env.step(action)  # Apply the action to environment.\n",
    "    \n",
    "\n",
    "            # Append the reward and done flag to buffer for calculating Monte Carlo returns during updating phase.\n",
    "            agent.buffer.rewards.append(reward)\n",
    "            agent.buffer.dones.append(done)\n",
    "            \n",
    "            time_step += 1\n",
    "            current_ep_reward += reward\n",
    "\n",
    "            if time_step % update_timestep == 0:\n",
    "                agent.update()\n",
    "\n",
    "            if time_step % action_std_decay_freq == 0:\n",
    "                # Decay standard deviation by 0.1.\n",
    "                agent.decay_action_std(action_std_decay_rate, min_action_std)\n",
    "\n",
    "            if time_step % print_freq == 0:\n",
    "                # print average reward during 10_000 timesteps\n",
    "                print_avg_reward = print_running_reward / print_running_episodes\n",
    "                print_avg_reward = round(print_avg_reward, 2)\n",
    "\n",
    "                print(\"Episode : {} \\t\\t Timestep : {} \\t\\t Average Reward : {}\".format(i_episode, time_step,\n",
    "                                                                                        print_avg_reward))\n",
    "\n",
    "                print_running_reward = 0\n",
    "                print_running_episodes = 0\n",
    "\n",
    "            if time_step % save_model_freq == 0:\n",
    "\n",
    "                # Save the model parameters for test phase and tracking performance.\n",
    "                print(\"--------------------------------------------------------------------------------------------\")\n",
    "                print(\"Saving model at : \" + checkpoint_path)\n",
    "                agent.save(checkpoint_path)\n",
    "                print(\"Model saved\")\n",
    "                counter += 1\n",
    "                inter_checkpoint = directory + \"PPO_{}_{}00K.pth\".format(env_name, counter)\n",
    "                print(\"--------------------------------------------------------------------------------------------\")\n",
    "                print(\"Model parameters to check for intermediate performance saving:.\")\n",
    "                print(\"saving model at : \" + inter_checkpoint)\n",
    "                agent.save(inter_checkpoint)\n",
    "                if counter == 10:\n",
    "                    print(f\"Intermediate model saved for {counter}M\")\n",
    "                else:\n",
    "                    print(f\"Intermediate model saved for {counter}00K\")\n",
    "                print(\"--------------------------------------------------------------------------------------------\")\n",
    "\n",
    "            if done:\n",
    "                break\n",
    "\n",
    "        print_running_reward += current_ep_reward\n",
    "\n",
    "        # plot reward per 10 episode.\n",
    "        if i_episode % 10 == 0:\n",
    "            plot_episode.append(i_episode)\n",
    "            plot_reward.append(current_ep_reward)\n",
    "\n",
    "        print_running_episodes += 1\n",
    "\n",
    "        i_episode += 1\n",
    "\n",
    "    env.close()\n",
    "\n",
    "    print(\"============================================================================================\")\n",
    "\n",
    "    return plot_episode, plot_reward"
   ]
  },
  {
   "cell_type": "code",
   "execution_count": 10,
   "id": "8beec190",
   "metadata": {
    "scrolled": false
   },
   "outputs": [
    {
     "name": "stdout",
     "output_type": "stream",
     "text": [
      "============================================================================================\n",
      "Training Environment:DoubleInvPendulum\n",
      "Environment initialized\n",
      "--------------------------------------------------------------------------------------------\n",
      "PPO update frequency : 2000 timesteps\n",
      "PPO K epochs :  100\n",
      "PPO epsilon clip :  0.2\n",
      "discount factor (gamma) :  0.99\n",
      "--------------------------------------------------------------------------------------------\n",
      "optimizer learning rate actor :  0.0003\n",
      "optimizer learning rate critic :  0.001\n",
      "============================================================================================\n",
      "============================================================================================\n",
      "Episode : 182 \t\t Timestep : 10000 \t\t Average Reward : 451.01\n",
      "Episode : 356 \t\t Timestep : 20000 \t\t Average Reward : 493.03\n",
      "Episode : 528 \t\t Timestep : 30000 \t\t Average Reward : 498.37\n",
      "Episode : 698 \t\t Timestep : 40000 \t\t Average Reward : 506.42\n",
      "Episode : 866 \t\t Timestep : 50000 \t\t Average Reward : 510.31\n",
      "Episode : 1031 \t\t Timestep : 60000 \t\t Average Reward : 523.03\n",
      "Episode : 1192 \t\t Timestep : 70000 \t\t Average Reward : 548.61\n",
      "Episode : 1337 \t\t Timestep : 80000 \t\t Average Reward : 619.54\n",
      "Episode : 1476 \t\t Timestep : 90000 \t\t Average Reward : 660.95\n",
      "Episode : 1864 \t\t Timestep : 100000 \t\t Average Reward : 151.47\n",
      "--------------------------------------------------------------------------------------------\n",
      "Saving model at : PPO4_Trained/PPO4_DoubleInvPendulum.pth\n",
      "Model saved\n",
      "--------------------------------------------------------------------------------------------\n",
      "Model parameters to check for intermediate performance saving:.\n",
      "saving model at : PPO4_Trained/PPO_DoubleInvPendulum_100K.pth\n",
      "Intermediate model saved for 100K\n",
      "--------------------------------------------------------------------------------------------\n",
      "Episode : 2211 \t\t Timestep : 110000 \t\t Average Reward : 188.7\n",
      "Episode : 2492 \t\t Timestep : 120000 \t\t Average Reward : 269.34\n",
      "Episode : 2684 \t\t Timestep : 130000 \t\t Average Reward : 450.19\n",
      "Episode : 2829 \t\t Timestep : 140000 \t\t Average Reward : 621.15\n",
      "Episode : 2961 \t\t Timestep : 150000 \t\t Average Reward : 705.01\n",
      "Episode : 3083 \t\t Timestep : 160000 \t\t Average Reward : 761.92\n",
      "Episode : 3217 \t\t Timestep : 170000 \t\t Average Reward : 673.87\n",
      "Episode : 3335 \t\t Timestep : 180000 \t\t Average Reward : 768.2\n",
      "Episode : 3448 \t\t Timestep : 190000 \t\t Average Reward : 822.63\n",
      "--------------------------------------------------------------------------------------------\n",
      "setting actor output action_std to min_action_std :  0.05\n",
      "Episode : 3558 \t\t Timestep : 200000 \t\t Average Reward : 827.78\n",
      "--------------------------------------------------------------------------------------------\n",
      "Saving model at : PPO4_Trained/PPO4_DoubleInvPendulum.pth\n",
      "Model saved\n",
      "--------------------------------------------------------------------------------------------\n",
      "Model parameters to check for intermediate performance saving:.\n",
      "saving model at : PPO4_Trained/PPO_DoubleInvPendulum_200K.pth\n",
      "Intermediate model saved for 200K\n",
      "--------------------------------------------------------------------------------------------\n",
      "Episode : 3734 \t\t Timestep : 210000 \t\t Average Reward : 420.96\n",
      "Episode : 3931 \t\t Timestep : 220000 \t\t Average Reward : 323.96\n",
      "Episode : 4171 \t\t Timestep : 230000 \t\t Average Reward : 241.22\n",
      "Episode : 4413 \t\t Timestep : 240000 \t\t Average Reward : 236.85\n",
      "Episode : 4659 \t\t Timestep : 250000 \t\t Average Reward : 229.75\n",
      "Episode : 4932 \t\t Timestep : 260000 \t\t Average Reward : 194.1\n",
      "Episode : 5166 \t\t Timestep : 270000 \t\t Average Reward : 241.84\n",
      "Episode : 5435 \t\t Timestep : 280000 \t\t Average Reward : 270.61\n",
      "Episode : 5668 \t\t Timestep : 290000 \t\t Average Reward : 338.25\n",
      "Episode : 5928 \t\t Timestep : 300000 \t\t Average Reward : 280.36\n",
      "--------------------------------------------------------------------------------------------\n",
      "Saving model at : PPO4_Trained/PPO4_DoubleInvPendulum.pth\n",
      "Model saved\n",
      "--------------------------------------------------------------------------------------------\n",
      "Model parameters to check for intermediate performance saving:.\n",
      "saving model at : PPO4_Trained/PPO_DoubleInvPendulum_300K.pth\n",
      "Intermediate model saved for 300K\n",
      "--------------------------------------------------------------------------------------------\n",
      "Episode : 6300 \t\t Timestep : 310000 \t\t Average Reward : 166.79\n",
      "Episode : 6662 \t\t Timestep : 320000 \t\t Average Reward : 175.03\n",
      "Episode : 7011 \t\t Timestep : 330000 \t\t Average Reward : 188.24\n",
      "Episode : 7338 \t\t Timestep : 340000 \t\t Average Reward : 209.64\n",
      "Episode : 7583 \t\t Timestep : 350000 \t\t Average Reward : 330.53\n",
      "Episode : 7900 \t\t Timestep : 360000 \t\t Average Reward : 166.11\n",
      "Episode : 8233 \t\t Timestep : 370000 \t\t Average Reward : 144.4\n",
      "Episode : 8454 \t\t Timestep : 380000 \t\t Average Reward : 338.43\n",
      "Episode : 8661 \t\t Timestep : 390000 \t\t Average Reward : 394.07\n",
      "--------------------------------------------------------------------------------------------\n",
      "setting actor output action_std to min_action_std :  0.05\n",
      "Episode : 8859 \t\t Timestep : 400000 \t\t Average Reward : 414.34\n",
      "--------------------------------------------------------------------------------------------\n",
      "Saving model at : PPO4_Trained/PPO4_DoubleInvPendulum.pth\n",
      "Model saved\n",
      "--------------------------------------------------------------------------------------------\n",
      "Model parameters to check for intermediate performance saving:.\n",
      "saving model at : PPO4_Trained/PPO_DoubleInvPendulum_400K.pth\n",
      "Intermediate model saved for 400K\n",
      "--------------------------------------------------------------------------------------------\n",
      "Episode : 9030 \t\t Timestep : 410000 \t\t Average Reward : 513.15\n",
      "Episode : 9192 \t\t Timestep : 420000 \t\t Average Reward : 535.54\n",
      "Episode : 9356 \t\t Timestep : 430000 \t\t Average Reward : 537.47\n",
      "Episode : 9519 \t\t Timestep : 440000 \t\t Average Reward : 539.53\n",
      "Episode : 9678 \t\t Timestep : 450000 \t\t Average Reward : 555.27\n",
      "Episode : 9836 \t\t Timestep : 460000 \t\t Average Reward : 558.75\n",
      "Episode : 9996 \t\t Timestep : 470000 \t\t Average Reward : 550.51\n",
      "Episode : 10158 \t\t Timestep : 480000 \t\t Average Reward : 544.96\n",
      "Episode : 10315 \t\t Timestep : 490000 \t\t Average Reward : 554.94\n",
      "Episode : 10475 \t\t Timestep : 500000 \t\t Average Reward : 555.16\n",
      "--------------------------------------------------------------------------------------------\n",
      "Saving model at : PPO4_Trained/PPO4_DoubleInvPendulum.pth\n",
      "Model saved\n",
      "--------------------------------------------------------------------------------------------\n",
      "Model parameters to check for intermediate performance saving:.\n",
      "saving model at : PPO4_Trained/PPO_DoubleInvPendulum_500K.pth\n",
      "Intermediate model saved for 500K\n",
      "--------------------------------------------------------------------------------------------\n",
      "Episode : 10633 \t\t Timestep : 510000 \t\t Average Reward : 556.54\n",
      "Episode : 10790 \t\t Timestep : 520000 \t\t Average Reward : 564.05\n",
      "Episode : 10949 \t\t Timestep : 530000 \t\t Average Reward : 558.19\n",
      "Episode : 11109 \t\t Timestep : 540000 \t\t Average Reward : 551.11\n",
      "Episode : 11268 \t\t Timestep : 550000 \t\t Average Reward : 555.2\n",
      "Episode : 11416 \t\t Timestep : 560000 \t\t Average Reward : 609.27\n",
      "Episode : 11523 \t\t Timestep : 570000 \t\t Average Reward : 891.98\n",
      "Episode : 11611 \t\t Timestep : 580000 \t\t Average Reward : 1049.97\n",
      "Episode : 11694 \t\t Timestep : 590000 \t\t Average Reward : 1102.05\n",
      "--------------------------------------------------------------------------------------------\n",
      "setting actor output action_std to min_action_std :  0.05\n",
      "Episode : 11773 \t\t Timestep : 600000 \t\t Average Reward : 1141.37\n",
      "--------------------------------------------------------------------------------------------\n",
      "Saving model at : PPO4_Trained/PPO4_DoubleInvPendulum.pth\n",
      "Model saved\n",
      "--------------------------------------------------------------------------------------------\n",
      "Model parameters to check for intermediate performance saving:.\n",
      "saving model at : PPO4_Trained/PPO_DoubleInvPendulum_600K.pth\n",
      "Intermediate model saved for 600K\n",
      "--------------------------------------------------------------------------------------------\n",
      "Episode : 11846 \t\t Timestep : 610000 \t\t Average Reward : 1258.0\n",
      "Episode : 11919 \t\t Timestep : 620000 \t\t Average Reward : 1222.6\n",
      "Episode : 11991 \t\t Timestep : 630000 \t\t Average Reward : 1206.08\n"
     ]
    },
    {
     "name": "stdout",
     "output_type": "stream",
     "text": [
      "Episode : 12060 \t\t Timestep : 640000 \t\t Average Reward : 1261.19\n",
      "Episode : 12129 \t\t Timestep : 650000 \t\t Average Reward : 1286.9\n",
      "Episode : 12195 \t\t Timestep : 660000 \t\t Average Reward : 1294.25\n",
      "Episode : 12263 \t\t Timestep : 670000 \t\t Average Reward : 1305.62\n",
      "Episode : 12330 \t\t Timestep : 680000 \t\t Average Reward : 1275.79\n",
      "Episode : 12400 \t\t Timestep : 690000 \t\t Average Reward : 1254.86\n",
      "Episode : 12471 \t\t Timestep : 700000 \t\t Average Reward : 1215.73\n",
      "--------------------------------------------------------------------------------------------\n",
      "Saving model at : PPO4_Trained/PPO4_DoubleInvPendulum.pth\n",
      "Model saved\n",
      "--------------------------------------------------------------------------------------------\n",
      "Model parameters to check for intermediate performance saving:.\n",
      "saving model at : PPO4_Trained/PPO_DoubleInvPendulum_700K.pth\n",
      "Intermediate model saved for 700K\n",
      "--------------------------------------------------------------------------------------------\n",
      "Episode : 12540 \t\t Timestep : 710000 \t\t Average Reward : 1254.97\n",
      "Episode : 12607 \t\t Timestep : 720000 \t\t Average Reward : 1281.3\n",
      "Episode : 12674 \t\t Timestep : 730000 \t\t Average Reward : 1299.34\n",
      "Episode : 12741 \t\t Timestep : 740000 \t\t Average Reward : 1329.19\n",
      "Episode : 12806 \t\t Timestep : 750000 \t\t Average Reward : 1326.01\n",
      "Episode : 12872 \t\t Timestep : 760000 \t\t Average Reward : 1317.95\n",
      "Episode : 12941 \t\t Timestep : 770000 \t\t Average Reward : 1314.13\n",
      "Episode : 13008 \t\t Timestep : 780000 \t\t Average Reward : 1309.75\n",
      "Episode : 13076 \t\t Timestep : 790000 \t\t Average Reward : 1236.14\n",
      "--------------------------------------------------------------------------------------------\n",
      "setting actor output action_std to min_action_std :  0.05\n",
      "Episode : 13144 \t\t Timestep : 800000 \t\t Average Reward : 1314.47\n",
      "--------------------------------------------------------------------------------------------\n",
      "Saving model at : PPO4_Trained/PPO4_DoubleInvPendulum.pth\n",
      "Model saved\n",
      "--------------------------------------------------------------------------------------------\n",
      "Model parameters to check for intermediate performance saving:.\n",
      "saving model at : PPO4_Trained/PPO_DoubleInvPendulum_800K.pth\n",
      "Intermediate model saved for 800K\n",
      "--------------------------------------------------------------------------------------------\n",
      "Episode : 13210 \t\t Timestep : 810000 \t\t Average Reward : 1331.3\n",
      "Episode : 13276 \t\t Timestep : 820000 \t\t Average Reward : 1338.68\n",
      "Episode : 13341 \t\t Timestep : 830000 \t\t Average Reward : 1328.82\n",
      "Episode : 13405 \t\t Timestep : 840000 \t\t Average Reward : 1359.01\n",
      "Episode : 13469 \t\t Timestep : 850000 \t\t Average Reward : 1373.38\n",
      "Episode : 13535 \t\t Timestep : 860000 \t\t Average Reward : 1283.7\n",
      "Episode : 13599 \t\t Timestep : 870000 \t\t Average Reward : 1362.12\n",
      "Episode : 13663 \t\t Timestep : 880000 \t\t Average Reward : 1344.43\n",
      "Episode : 13727 \t\t Timestep : 890000 \t\t Average Reward : 1325.75\n",
      "Episode : 13791 \t\t Timestep : 900000 \t\t Average Reward : 1335.21\n",
      "--------------------------------------------------------------------------------------------\n",
      "Saving model at : PPO4_Trained/PPO4_DoubleInvPendulum.pth\n",
      "Model saved\n",
      "--------------------------------------------------------------------------------------------\n",
      "Model parameters to check for intermediate performance saving:.\n",
      "saving model at : PPO4_Trained/PPO_DoubleInvPendulum_900K.pth\n",
      "Intermediate model saved for 900K\n",
      "--------------------------------------------------------------------------------------------\n",
      "Episode : 13856 \t\t Timestep : 910000 \t\t Average Reward : 1335.14\n",
      "Episode : 13919 \t\t Timestep : 920000 \t\t Average Reward : 1387.43\n",
      "Episode : 13983 \t\t Timestep : 930000 \t\t Average Reward : 1351.75\n",
      "Episode : 14047 \t\t Timestep : 940000 \t\t Average Reward : 1368.46\n",
      "Episode : 14109 \t\t Timestep : 950000 \t\t Average Reward : 1436.39\n",
      "Episode : 14174 \t\t Timestep : 960000 \t\t Average Reward : 1351.71\n",
      "Episode : 14236 \t\t Timestep : 970000 \t\t Average Reward : 1395.36\n",
      "Episode : 14298 \t\t Timestep : 980000 \t\t Average Reward : 1391.58\n",
      "Episode : 14362 \t\t Timestep : 990000 \t\t Average Reward : 1347.38\n",
      "--------------------------------------------------------------------------------------------\n",
      "setting actor output action_std to min_action_std :  0.05\n",
      "Episode : 14426 \t\t Timestep : 1000000 \t\t Average Reward : 1358.52\n",
      "--------------------------------------------------------------------------------------------\n",
      "Saving model at : PPO4_Trained/PPO4_DoubleInvPendulum.pth\n",
      "Model saved\n",
      "--------------------------------------------------------------------------------------------\n",
      "Model parameters to check for intermediate performance saving:.\n",
      "saving model at : PPO4_Trained/PPO_DoubleInvPendulum_1000K.pth\n",
      "Intermediate model saved for 10M\n",
      "--------------------------------------------------------------------------------------------\n",
      "============================================================================================\n"
     ]
    }
   ],
   "source": [
    "\n",
    "n_episode, reward_episode = train()"
   ]
  },
  {
   "cell_type": "code",
   "execution_count": 11,
   "id": "1cac7b6f",
   "metadata": {},
   "outputs": [
    {
     "data": {
      "text/plain": [
       "ERROR: Could not find `tensorboard`. Please ensure that your PATH\n",
       "contains an executable `tensorboard` program, or explicitly specify\n",
       "the path to a TensorBoard binary by setting the `TENSORBOARD_BINARY`\n",
       "environment variable."
      ]
     },
     "metadata": {},
     "output_type": "display_data"
    }
   ],
   "source": [
    "%load_ext tensorboard\n",
    "%tensorboard --logdir = 'PPO_plots'"
   ]
  },
  {
   "cell_type": "code",
   "execution_count": 12,
   "id": "601c7378",
   "metadata": {},
   "outputs": [
    {
     "data": {
      "image/png": "[encoded data removed]",
      "text/plain": [
       "<Figure size 1080x720 with 1 Axes>"
      ]
     },
     "metadata": {
      "needs_background": "light"
     },
     "output_type": "display_data"
    }
   ],
   "source": [
    "%matplotlib inline\n",
    "# Plot: Reward per every 10 episodes.\n",
    "fig, ax = plt.subplots(figsize=(15, 10))\n",
    "ax.plot(n_episode, reward_episode)\n",
    "ax.set_title('Total number of episodes vs rewards per episode', fontsize=20)\n",
    "ax.set_xlabel('Episode', fontsize=20)\n",
    "ax.set_ylabel('Reward', fontsize=20)\n",
    "plt.show()"
   ]
  },
  {
   "cell_type": "code",
   "execution_count": null,
   "id": "9466af0b",
   "metadata": {},
   "outputs": [],
   "source": []
  }
 ],
 "metadata": {
  "kernelspec": {
   "display_name": "Python 3",
   "language": "python",
   "name": "python3"
  },
  "language_info": {
   "codemirror_mode": {
    "name": "ipython",
    "version": 3
   },
   "file_extension": ".py",
   "mimetype": "text/x-python",
   "name": "python",
   "nbconvert_exporter": "python",
   "pygments_lexer": "ipython3",
   "version": "3.8.8"
  },
  "toc": {
   "base_numbering": 1,
   "nav_menu": {},
   "number_sections": false,
   "sideBar": true,
   "skip_h1_title": false,
   "title_cell": "Table of Contents",
   "title_sidebar": "Contents",
   "toc_cell": false,
   "toc_position": {},
   "toc_section_display": true,
   "toc_window_display": false
  }
 },
 "nbformat": 4,
 "nbformat_minor": 5
}
