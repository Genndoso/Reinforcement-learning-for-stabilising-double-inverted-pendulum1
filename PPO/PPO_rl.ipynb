{
 "cells": [
  {
   "cell_type": "code",
   "execution_count": 1,
   "id": "0ddd44a4",
   "metadata": {},
   "outputs": [],
   "source": [
    "import sys\n",
    "sys.path.append('C:\\\\Users\\\\Максимилиан\\\\Desktop\\\\Skoltech\\\\Reinforcement learning\\\\Final project')\n",
    "from Dynamics import get_next_state, state_to_coords, get_energy,normalize_angle\n",
    "from Environment import DoublePendulumEnv, ObservationSpaceCartPole\n",
    "from PPO.Proximal_Policy_Optimization import PPO, unscaled_action\n",
    "from PPO.train import train\n",
    "from PPO.config_PPO import config"
   ]
  },
  {
   "cell_type": "code",
   "execution_count": 2,
   "id": "2ad651c9",
   "metadata": {},
   "outputs": [],
   "source": [
    "from torch import nn\n",
    "import torch\n",
    "from torch.utils.tensorboard import SummaryWriter\n",
    "import gym\n",
    "from torch.distributions import Normal\n",
    "from gym.spaces import Box\n",
    "import random\n",
    "from IPython.display import clear_output\n",
    "from torch.distributions import MultivariateNormal\n",
    "import numpy as np\n",
    "import matplotlib.pyplot as plt"
   ]
  },
  {
   "cell_type": "code",
   "execution_count": 3,
   "id": "9d37f5d0",
   "metadata": {},
   "outputs": [],
   "source": [
    "import os\n",
    "os.environ[\"KMP_DUPLICATE_LIB_OK\"]=\"TRUE\""
   ]
  },
  {
   "cell_type": "code",
   "execution_count": 4,
   "id": "e98b69ae",
   "metadata": {},
   "outputs": [],
   "source": [
    "state0 = np.array([0,np.pi/2,np.pi/2,\n",
    "                0,0,0])\n",
    "state = state0\n",
    "state\n",
    "#max_initial_angle = 3 * 2 * np.pi / 360\n",
    "max_initial_angle = 0\n",
    "dt = 0.02"
   ]
  },
  {
   "cell_type": "code",
   "execution_count": 5,
   "id": "b9be1097",
   "metadata": {},
   "outputs": [
    {
     "data": {
      "text/plain": [
       "array([0., 0.])"
      ]
     },
     "execution_count": 5,
     "metadata": {},
     "output_type": "execute_result"
    }
   ],
   "source": [
    "oords = np.array(state_to_coords(state)[:, 0])\n",
    "oords"
   ]
  },
  {
   "cell_type": "code",
   "execution_count": 6,
   "id": "638913a1",
   "metadata": {},
   "outputs": [
    {
     "name": "stderr",
     "output_type": "stream",
     "text": [
      "C:\\ProgramData\\Anaconda3\\lib\\site-packages\\scipy\\integrate\\odepack.py:247: ODEintWarning: Excess work done on this call (perhaps wrong Dfun type). Run with full_output = 1 to get quantitative information.\n",
      "  warnings.warn(warning_msg, ODEintWarning)\n"
     ]
    },
    {
     "data": {
      "text/plain": [
       "array([ 57.09394275,  -2.53782625,  -2.52245306,  68.56067285,\n",
       "         3.83151235, -23.02406187])"
      ]
     },
     "execution_count": 6,
     "metadata": {},
     "output_type": "execute_result"
    }
   ],
   "source": [
    "get_next_state(state,100,10)"
   ]
  },
  {
   "cell_type": "markdown",
   "id": "d455d941",
   "metadata": {},
   "source": [
    "# Environment"
   ]
  },
  {
   "cell_type": "code",
   "execution_count": 7,
   "id": "2dcf327d",
   "metadata": {},
   "outputs": [
    {
     "name": "stdout",
     "output_type": "stream",
     "text": [
      "Environment initialized\n"
     ]
    },
    {
     "name": "stderr",
     "output_type": "stream",
     "text": [
      "C:\\Users\\Максимилиан\\AppData\\Roaming\\Python\\Python38\\site-packages\\gym\\spaces\\box.py:73: UserWarning: \u001b[33mWARN: Box bound precision lowered by casting to float64\u001b[0m\n",
      "  logger.warn(\n"
     ]
    }
   ],
   "source": [
    "env = DoublePendulumEnv(init_state=state, dt=config['dt'], max_initial_angle = 0)"
   ]
  },
  {
   "cell_type": "code",
   "execution_count": 8,
   "id": "4c509dce",
   "metadata": {},
   "outputs": [
    {
     "data": {
      "text/plain": [
       "1"
      ]
     },
     "execution_count": 8,
     "metadata": {},
     "output_type": "execute_result"
    }
   ],
   "source": [
    "env.action_space.shape[0]"
   ]
  },
  {
   "cell_type": "code",
   "execution_count": 9,
   "id": "fe53bb04",
   "metadata": {},
   "outputs": [],
   "source": [
    "\n",
    "def train():\n",
    "    print(\"============================================================================================\")\n",
    "    # max. timestep per episode. For DoubleCartPoleEnv, time constraint is 200 timesteps. After that environment is\n",
    "    # reset.\n",
    "    max_ep_len = config['max_episode_length']\n",
    "    # The training phase will sample and update for 1 million timestep.\n",
    "    max_training_steps = int(config['max_training_steps'])\n",
    "\n",
    "    # In order, to check ongoing progress, average reward is printed at every 10_000 timesteps.\n",
    "    print_freq = 10_000\n",
    "\n",
    "    # Saving model parameters at every 1_00_000 timesteps.\n",
    "    save_model_freq = int(config['save_model_freq'])\n",
    "\n",
    "    action_std = config['action_std']  # Initial standard deviation.\n",
    "    action_std_decay_rate = config['action_std_decay_rate']  # Decay rate of standard deviation.\n",
    "    min_action_std = config['min_action_std']  # Threshold standard deviation.\n",
    "    action_std_decay_freq = int(2e5)  # Decay the standard deviation every 200000 timesteps\n",
    "\n",
    "    update_timestep = config['update_timestep']  # set old_policy parameters to new_policy parameters.\n",
    "    K_epochs = config['max_number_of_epoch']  # Number of epochs before updating old policy parameters.\n",
    "    eps_clip = config['eps_clip']  # clip range for surrogate loss function.\n",
    "    gamma = config['gamma']  # Discount factor.\n",
    "\n",
    "    lr_actor = config['lr_actor']  # Learning rate for optimizer of actor network.\n",
    "    lr_critic = config['lr_critic']  # Learning rate for optimizer of critic network.\n",
    "    env_name = 'DoubleInvPendulum'\n",
    "    print(\"Training Environment:\" + env_name)\n",
    "    \n",
    "    \n",
    "    \n",
    "    env = DoublePendulumEnv(init_state=state, dt=config['dt'], max_initial_angle = 0)\n",
    "\n",
    "    observation_shape = env.observation_space.shape[0]  # Observation shape\n",
    "    action_shape = env.action_space.shape[0]  # Action shape\n",
    "\n",
    "    directory = \"PPO3_Trained\"\n",
    "    if not os.path.exists(directory):\n",
    "        os.makedirs(directory)\n",
    "\n",
    "    directory = directory + '/'\n",
    "    if not os.path.exists(directory):\n",
    "        os.makedirs(directory)\n",
    "\n",
    "\n",
    "    checkpoint_path = directory + \"PPO3_{}.pth\".format(env_name)\n",
    "\n",
    "\n",
    "    print(\"--------------------------------------------------------------------------------------------\")\n",
    "    print(\"PPO update frequency : \" + str(update_timestep) + \" timesteps\")\n",
    "    print(\"PPO K epochs : \", K_epochs)\n",
    "    print(\"PPO epsilon clip : \", eps_clip)\n",
    "    print(\"discount factor (gamma) : \", gamma)\n",
    "    print(\"--------------------------------------------------------------------------------------------\")\n",
    "    print(\"optimizer learning rate actor : \", lr_actor)\n",
    "    print(\"optimizer learning rate critic : \", lr_critic)\n",
    "\n",
    "    print(\"============================================================================================\")\n",
    "\n",
    "    agent = PPO(observation_shape,\n",
    "                action_shape,\n",
    "     )\n",
    "\n",
    "\n",
    "    print(\"============================================================================================\")\n",
    "\n",
    "    # To keep track of the progress\n",
    "    print_running_reward = 0\n",
    "    print_running_episodes = 0\n",
    "\n",
    "    time_step = 0\n",
    "    i_episode = 0\n",
    "    counter = 0\n",
    "\n",
    "    plot_episode = []\n",
    "    plot_reward = []\n",
    "\n",
    "    while time_step <= max_training_steps:\n",
    "        obs, done = env.reset()\n",
    "        current_ep_reward = 0\n",
    "        for t in range(1, max_ep_len + 1):\n",
    "            \n",
    "            action = agent.select_action(obs)  # Get action under old_policy given state.\n",
    "#             if u > 1 or u < -1:\n",
    "#                 print(u)\n",
    "            #action = unscaled_action(action)  # Unscale the action.\n",
    "           \n",
    "             \n",
    "            obs, reward, done, _ = env.step(action)  # Apply the action to environment.\n",
    "    \n",
    "\n",
    "            # Append the reward and done flag to buffer for calculating Monte Carlo returns during updating phase.\n",
    "            agent.buffer.rewards.append(reward)\n",
    "            agent.buffer.dones.append(done)\n",
    "            \n",
    "            time_step += 1\n",
    "            current_ep_reward += reward\n",
    "\n",
    "            if time_step % update_timestep == 0:\n",
    "                agent.update()\n",
    "\n",
    "            if time_step % action_std_decay_freq == 0:\n",
    "                # Decay standard deviation by 0.1.\n",
    "                agent.decay_action_std(action_std_decay_rate, min_action_std)\n",
    "\n",
    "            if time_step % print_freq == 0:\n",
    "                # print average reward during 10_000 timesteps\n",
    "                print_avg_reward = print_running_reward / print_running_episodes\n",
    "                print_avg_reward = round(print_avg_reward, 2)\n",
    "\n",
    "                print(\"Episode : {} \\t\\t Timestep : {} \\t\\t Average Reward : {}\".format(i_episode, time_step,\n",
    "                                                                                        print_avg_reward))\n",
    "\n",
    "                print_running_reward = 0\n",
    "                print_running_episodes = 0\n",
    "\n",
    "            if time_step % save_model_freq == 0:\n",
    "\n",
    "                # Save the model parameters for test phase and tracking performance.\n",
    "                print(\"--------------------------------------------------------------------------------------------\")\n",
    "                print(\"Saving model at : \" + checkpoint_path)\n",
    "                agent.save(checkpoint_path)\n",
    "                print(\"Model saved\")\n",
    "                counter += 1\n",
    "                inter_checkpoint = directory + \"PPO_{}_{}00K.pth\".format(env_name, counter)\n",
    "                print(\"--------------------------------------------------------------------------------------------\")\n",
    "                print(\"Model parameters to check for intermediate performance saving:.\")\n",
    "                print(\"saving model at : \" + inter_checkpoint)\n",
    "                agent.save(inter_checkpoint)\n",
    "                if counter == 10:\n",
    "                    print(f\"Intermediate model saved for {counter}M\")\n",
    "                else:\n",
    "                    print(f\"Intermediate model saved for {counter}00K\")\n",
    "                print(\"--------------------------------------------------------------------------------------------\")\n",
    "\n",
    "            if done:\n",
    "                break\n",
    "\n",
    "        print_running_reward += current_ep_reward\n",
    "\n",
    "        # plot reward per 10 episode.\n",
    "        if i_episode % 10 == 0:\n",
    "            plot_episode.append(i_episode)\n",
    "            plot_reward.append(current_ep_reward)\n",
    "\n",
    "        print_running_episodes += 1\n",
    "\n",
    "        i_episode += 1\n",
    "\n",
    "    env.close()\n",
    "\n",
    "    print(\"============================================================================================\")\n",
    "\n",
    "    return plot_episode, plot_reward"
   ]
  },
  {
   "cell_type": "code",
   "execution_count": 10,
   "id": "8beec190",
   "metadata": {
    "scrolled": true
   },
   "outputs": [
    {
     "name": "stdout",
     "output_type": "stream",
     "text": [
      "============================================================================================\n",
      "Training Environment:DoubleInvPendulum\n",
      "Environment initialized\n",
      "--------------------------------------------------------------------------------------------\n",
      "PPO update frequency : 2000 timesteps\n",
      "PPO K epochs :  100\n",
      "PPO epsilon clip :  0.2\n",
      "discount factor (gamma) :  0.99\n",
      "--------------------------------------------------------------------------------------------\n",
      "optimizer learning rate actor :  0.0003\n",
      "optimizer learning rate critic :  0.001\n",
      "============================================================================================\n",
      "============================================================================================\n",
      "Episode : 176 \t\t Timestep : 10000 \t\t Average Reward : 478.56\n",
      "Episode : 350 \t\t Timestep : 20000 \t\t Average Reward : 488.57\n",
      "Episode : 523 \t\t Timestep : 30000 \t\t Average Reward : 495.69\n",
      "Episode : 690 \t\t Timestep : 40000 \t\t Average Reward : 517.4\n",
      "Episode : 846 \t\t Timestep : 50000 \t\t Average Reward : 571.52\n",
      "Episode : 990 \t\t Timestep : 60000 \t\t Average Reward : 626.89\n",
      "Episode : 1168 \t\t Timestep : 70000 \t\t Average Reward : 475.94\n",
      "Episode : 1508 \t\t Timestep : 80000 \t\t Average Reward : 195.06\n",
      "Episode : 1775 \t\t Timestep : 90000 \t\t Average Reward : 290.31\n",
      "Episode : 1948 \t\t Timestep : 100000 \t\t Average Reward : 506.94\n",
      "--------------------------------------------------------------------------------------------\n",
      "Saving model at : PPO3_Trained/PPO3_DoubleInvPendulum.pth\n",
      "Model saved\n",
      "--------------------------------------------------------------------------------------------\n",
      "Model parameters to check for intermediate performance saving:.\n",
      "saving model at : PPO3_Trained/PPO_DoubleInvPendulum_100K.pth\n",
      "Intermediate model saved for 100K\n",
      "--------------------------------------------------------------------------------------------\n",
      "Episode : 2080 \t\t Timestep : 110000 \t\t Average Reward : 694.07\n",
      "Episode : 2200 \t\t Timestep : 120000 \t\t Average Reward : 774.74\n",
      "Episode : 2312 \t\t Timestep : 130000 \t\t Average Reward : 822.04\n",
      "Episode : 2417 \t\t Timestep : 140000 \t\t Average Reward : 886.27\n",
      "Episode : 2516 \t\t Timestep : 150000 \t\t Average Reward : 907.6\n",
      "Episode : 2610 \t\t Timestep : 160000 \t\t Average Reward : 956.47\n",
      "Episode : 2701 \t\t Timestep : 170000 \t\t Average Reward : 986.64\n",
      "Episode : 2790 \t\t Timestep : 180000 \t\t Average Reward : 1015.43\n",
      "Episode : 2879 \t\t Timestep : 190000 \t\t Average Reward : 1008.32\n",
      "--------------------------------------------------------------------------------------------\n",
      "setting actor output action_std to min_action_std :  0.05\n",
      "Episode : 2965 \t\t Timestep : 200000 \t\t Average Reward : 1033.48\n",
      "--------------------------------------------------------------------------------------------\n",
      "Saving model at : PPO3_Trained/PPO3_DoubleInvPendulum.pth\n",
      "Model saved\n",
      "--------------------------------------------------------------------------------------------\n",
      "Model parameters to check for intermediate performance saving:.\n",
      "saving model at : PPO3_Trained/PPO_DoubleInvPendulum_200K.pth\n",
      "Intermediate model saved for 200K\n",
      "--------------------------------------------------------------------------------------------\n",
      "Episode : 3048 \t\t Timestep : 210000 \t\t Average Reward : 1099.18\n",
      "Episode : 3134 \t\t Timestep : 220000 \t\t Average Reward : 1052.88\n",
      "Episode : 3212 \t\t Timestep : 230000 \t\t Average Reward : 1143.8\n",
      "Episode : 3289 \t\t Timestep : 240000 \t\t Average Reward : 1165.73\n",
      "Episode : 3363 \t\t Timestep : 250000 \t\t Average Reward : 1203.76\n",
      "Episode : 3438 \t\t Timestep : 260000 \t\t Average Reward : 1195.99\n",
      "Episode : 3515 \t\t Timestep : 270000 \t\t Average Reward : 1163.63\n",
      "Episode : 3589 \t\t Timestep : 280000 \t\t Average Reward : 1205.79\n",
      "Episode : 3662 \t\t Timestep : 290000 \t\t Average Reward : 1226.57\n",
      "Episode : 3732 \t\t Timestep : 300000 \t\t Average Reward : 1265.59\n",
      "--------------------------------------------------------------------------------------------\n",
      "Saving model at : PPO3_Trained/PPO3_DoubleInvPendulum.pth\n",
      "Model saved\n",
      "--------------------------------------------------------------------------------------------\n",
      "Model parameters to check for intermediate performance saving:.\n",
      "saving model at : PPO3_Trained/PPO_DoubleInvPendulum_300K.pth\n",
      "Intermediate model saved for 300K\n",
      "--------------------------------------------------------------------------------------------\n",
      "Episode : 3808 \t\t Timestep : 310000 \t\t Average Reward : 1165.56\n",
      "Episode : 3884 \t\t Timestep : 320000 \t\t Average Reward : 1163.86\n",
      "Episode : 3960 \t\t Timestep : 330000 \t\t Average Reward : 1167.62\n",
      "Episode : 4038 \t\t Timestep : 340000 \t\t Average Reward : 1139.2\n",
      "Episode : 4112 \t\t Timestep : 350000 \t\t Average Reward : 1179.7\n",
      "Episode : 4185 \t\t Timestep : 360000 \t\t Average Reward : 1204.25\n",
      "Episode : 4258 \t\t Timestep : 370000 \t\t Average Reward : 1221.69\n",
      "Episode : 4329 \t\t Timestep : 380000 \t\t Average Reward : 1226.06\n",
      "Episode : 4400 \t\t Timestep : 390000 \t\t Average Reward : 1250.26\n",
      "--------------------------------------------------------------------------------------------\n",
      "setting actor output action_std to min_action_std :  0.05\n",
      "Episode : 4476 \t\t Timestep : 400000 \t\t Average Reward : 1176.07\n",
      "--------------------------------------------------------------------------------------------\n",
      "Saving model at : PPO3_Trained/PPO3_DoubleInvPendulum.pth\n",
      "Model saved\n",
      "--------------------------------------------------------------------------------------------\n",
      "Model parameters to check for intermediate performance saving:.\n",
      "saving model at : PPO3_Trained/PPO_DoubleInvPendulum_400K.pth\n",
      "Intermediate model saved for 400K\n",
      "--------------------------------------------------------------------------------------------\n",
      "Episode : 4552 \t\t Timestep : 410000 \t\t Average Reward : 1212.04\n",
      "Episode : 4623 \t\t Timestep : 420000 \t\t Average Reward : 1179.46\n",
      "Episode : 4687 \t\t Timestep : 430000 \t\t Average Reward : 1302.01\n",
      "Episode : 4751 \t\t Timestep : 440000 \t\t Average Reward : 1267.97\n",
      "Episode : 4816 \t\t Timestep : 450000 \t\t Average Reward : 1256.23\n",
      "Episode : 4880 \t\t Timestep : 460000 \t\t Average Reward : 1251.6\n",
      "Episode : 4942 \t\t Timestep : 470000 \t\t Average Reward : 1350.27\n",
      "Episode : 5009 \t\t Timestep : 480000 \t\t Average Reward : 1192.44\n",
      "Episode : 5073 \t\t Timestep : 490000 \t\t Average Reward : 1247.2\n",
      "Episode : 5151 \t\t Timestep : 500000 \t\t Average Reward : 1031.54\n",
      "--------------------------------------------------------------------------------------------\n",
      "Saving model at : PPO3_Trained/PPO3_DoubleInvPendulum.pth\n",
      "Model saved\n",
      "--------------------------------------------------------------------------------------------\n",
      "Model parameters to check for intermediate performance saving:.\n",
      "saving model at : PPO3_Trained/PPO_DoubleInvPendulum_500K.pth\n",
      "Intermediate model saved for 500K\n",
      "--------------------------------------------------------------------------------------------\n",
      "Episode : 5280 \t\t Timestep : 510000 \t\t Average Reward : 520.85\n",
      "Episode : 5421 \t\t Timestep : 520000 \t\t Average Reward : 463.28\n",
      "Episode : 5587 \t\t Timestep : 530000 \t\t Average Reward : 370.82\n",
      "Episode : 5752 \t\t Timestep : 540000 \t\t Average Reward : 377.66\n",
      "Episode : 5915 \t\t Timestep : 550000 \t\t Average Reward : 382.16\n",
      "Episode : 6079 \t\t Timestep : 560000 \t\t Average Reward : 379.68\n",
      "Episode : 6252 \t\t Timestep : 570000 \t\t Average Reward : 358.99\n",
      "Episode : 6425 \t\t Timestep : 580000 \t\t Average Reward : 375.34\n",
      "Episode : 6600 \t\t Timestep : 590000 \t\t Average Reward : 380.07\n",
      "--------------------------------------------------------------------------------------------\n",
      "setting actor output action_std to min_action_std :  0.05\n",
      "Episode : 6768 \t\t Timestep : 600000 \t\t Average Reward : 394.88\n",
      "--------------------------------------------------------------------------------------------\n",
      "Saving model at : PPO3_Trained/PPO3_DoubleInvPendulum.pth\n",
      "Model saved\n",
      "--------------------------------------------------------------------------------------------\n",
      "Model parameters to check for intermediate performance saving:.\n",
      "saving model at : PPO3_Trained/PPO_DoubleInvPendulum_600K.pth\n",
      "Intermediate model saved for 600K\n",
      "--------------------------------------------------------------------------------------------\n",
      "Episode : 6923 \t\t Timestep : 610000 \t\t Average Reward : 437.52\n",
      "Episode : 7069 \t\t Timestep : 620000 \t\t Average Reward : 505.82\n",
      "Episode : 7255 \t\t Timestep : 630000 \t\t Average Reward : 327.46\n"
     ]
    },
    {
     "name": "stdout",
     "output_type": "stream",
     "text": [
      "Episode : 7451 \t\t Timestep : 640000 \t\t Average Reward : 309.85\n",
      "Episode : 7673 \t\t Timestep : 650000 \t\t Average Reward : 281.99\n",
      "Episode : 7839 \t\t Timestep : 660000 \t\t Average Reward : 411.12\n",
      "Episode : 8128 \t\t Timestep : 670000 \t\t Average Reward : 189.31\n",
      "Episode : 8419 \t\t Timestep : 680000 \t\t Average Reward : 177.14\n",
      "Episode : 8691 \t\t Timestep : 690000 \t\t Average Reward : 192.28\n",
      "Episode : 8943 \t\t Timestep : 700000 \t\t Average Reward : 211.58\n",
      "--------------------------------------------------------------------------------------------\n",
      "Saving model at : PPO3_Trained/PPO3_DoubleInvPendulum.pth\n",
      "Model saved\n",
      "--------------------------------------------------------------------------------------------\n",
      "Model parameters to check for intermediate performance saving:.\n",
      "saving model at : PPO3_Trained/PPO_DoubleInvPendulum_700K.pth\n",
      "Intermediate model saved for 700K\n",
      "--------------------------------------------------------------------------------------------\n",
      "Episode : 9172 \t\t Timestep : 710000 \t\t Average Reward : 240.91\n",
      "Episode : 9402 \t\t Timestep : 720000 \t\t Average Reward : 238.32\n",
      "Episode : 9583 \t\t Timestep : 730000 \t\t Average Reward : 294.52\n",
      "Episode : 9814 \t\t Timestep : 740000 \t\t Average Reward : 234.49\n",
      "Episode : 10046 \t\t Timestep : 750000 \t\t Average Reward : 234.23\n",
      "Episode : 10273 \t\t Timestep : 760000 \t\t Average Reward : 239.8\n",
      "Episode : 10569 \t\t Timestep : 770000 \t\t Average Reward : 170.11\n",
      "Episode : 10855 \t\t Timestep : 780000 \t\t Average Reward : 180.31\n",
      "Episode : 11131 \t\t Timestep : 790000 \t\t Average Reward : 188.12\n",
      "--------------------------------------------------------------------------------------------\n",
      "setting actor output action_std to min_action_std :  0.05\n",
      "Episode : 11379 \t\t Timestep : 800000 \t\t Average Reward : 215.82\n",
      "--------------------------------------------------------------------------------------------\n",
      "Saving model at : PPO3_Trained/PPO3_DoubleInvPendulum.pth\n",
      "Model saved\n",
      "--------------------------------------------------------------------------------------------\n",
      "Model parameters to check for intermediate performance saving:.\n",
      "saving model at : PPO3_Trained/PPO_DoubleInvPendulum_800K.pth\n",
      "Intermediate model saved for 800K\n",
      "--------------------------------------------------------------------------------------------\n",
      "Episode : 11614 \t\t Timestep : 810000 \t\t Average Reward : 230.14\n",
      "Episode : 11837 \t\t Timestep : 820000 \t\t Average Reward : 244.35\n",
      "Episode : 12083 \t\t Timestep : 830000 \t\t Average Reward : 218.14\n",
      "Episode : 12310 \t\t Timestep : 840000 \t\t Average Reward : 241.6\n",
      "Episode : 12512 \t\t Timestep : 850000 \t\t Average Reward : 277.26\n",
      "Episode : 12639 \t\t Timestep : 860000 \t\t Average Reward : 434.33\n",
      "Episode : 12763 \t\t Timestep : 870000 \t\t Average Reward : 459.52\n",
      "Episode : 12885 \t\t Timestep : 880000 \t\t Average Reward : 477.86\n",
      "Episode : 13005 \t\t Timestep : 890000 \t\t Average Reward : 488.02\n",
      "Episode : 13130 \t\t Timestep : 900000 \t\t Average Reward : 616.25\n",
      "--------------------------------------------------------------------------------------------\n",
      "Saving model at : PPO3_Trained/PPO3_DoubleInvPendulum.pth\n",
      "Model saved\n",
      "--------------------------------------------------------------------------------------------\n",
      "Model parameters to check for intermediate performance saving:.\n",
      "saving model at : PPO3_Trained/PPO_DoubleInvPendulum_900K.pth\n",
      "Intermediate model saved for 900K\n",
      "--------------------------------------------------------------------------------------------\n",
      "Episode : 13254 \t\t Timestep : 910000 \t\t Average Reward : 596.32\n",
      "Episode : 13389 \t\t Timestep : 920000 \t\t Average Reward : 535.32\n",
      "Episode : 13527 \t\t Timestep : 930000 \t\t Average Reward : 427.81\n",
      "Episode : 13665 \t\t Timestep : 940000 \t\t Average Reward : 428.76\n",
      "Episode : 13804 \t\t Timestep : 950000 \t\t Average Reward : 426.87\n",
      "Episode : 13940 \t\t Timestep : 960000 \t\t Average Reward : 455.68\n",
      "Episode : 14077 \t\t Timestep : 970000 \t\t Average Reward : 442.49\n",
      "Episode : 14193 \t\t Timestep : 980000 \t\t Average Reward : 603.22\n",
      "Episode : 14307 \t\t Timestep : 990000 \t\t Average Reward : 626.33\n",
      "--------------------------------------------------------------------------------------------\n",
      "setting actor output action_std to min_action_std :  0.05\n",
      "Episode : 14424 \t\t Timestep : 1000000 \t\t Average Reward : 563.27\n",
      "--------------------------------------------------------------------------------------------\n",
      "Saving model at : PPO3_Trained/PPO3_DoubleInvPendulum.pth\n",
      "Model saved\n",
      "--------------------------------------------------------------------------------------------\n",
      "Model parameters to check for intermediate performance saving:.\n",
      "saving model at : PPO3_Trained/PPO_DoubleInvPendulum_1000K.pth\n",
      "Intermediate model saved for 10M\n",
      "--------------------------------------------------------------------------------------------\n",
      "============================================================================================\n"
     ]
    }
   ],
   "source": [
    "\n",
    "n_episode, reward_episode = train()"
   ]
  },
  {
   "cell_type": "code",
   "execution_count": 11,
   "id": "1cac7b6f",
   "metadata": {},
   "outputs": [
    {
     "data": {
      "text/plain": [
       "ERROR: Could not find `tensorboard`. Please ensure that your PATH\n",
       "contains an executable `tensorboard` program, or explicitly specify\n",
       "the path to a TensorBoard binary by setting the `TENSORBOARD_BINARY`\n",
       "environment variable."
      ]
     },
     "metadata": {},
     "output_type": "display_data"
    }
   ],
   "source": [
    "%load_ext tensorboard\n",
    "%tensorboard --logdir = 'PPO_plots'"
   ]
  },
  {
   "cell_type": "code",
   "execution_count": 12,
   "id": "601c7378",
   "metadata": {},
   "outputs": [
    {
     "data": {
      "image/png": "[encoded data removed]",
      "text/plain": [
       "<Figure size 1080x720 with 1 Axes>"
      ]
     },
     "metadata": {
      "needs_background": "light"
     },
     "output_type": "display_data"
    }
   ],
   "source": [
    "%matplotlib inline\n",
    "# Plot: Reward per every 10 episodes.\n",
    "fig, ax = plt.subplots(figsize=(15, 10))\n",
    "ax.plot(n_episode, reward_episode)\n",
    "ax.set_title('Total number of episodes vs rewards per episode', fontsize=20)\n",
    "ax.set_xlabel('Episode', fontsize=20)\n",
    "ax.set_ylabel('Reward', fontsize=20)\n",
    "plt.show()"
   ]
  },
  {
   "cell_type": "code",
   "execution_count": 13,
   "id": "87bf3499",
   "metadata": {},
   "outputs": [
    {
     "ename": "NameError",
     "evalue": "name 'agent' is not defined",
     "output_type": "error",
     "traceback": [
      "\u001b[1;31m---------------------------------------------------------------------------\u001b[0m",
      "\u001b[1;31mNameError\u001b[0m                                 Traceback (most recent call last)",
      "Input \u001b[1;32mIn [13]\u001b[0m, in \u001b[0;36m<cell line: 41>\u001b[1;34m()\u001b[0m\n\u001b[0;32m     37\u001b[0m ani \u001b[38;5;241m=\u001b[39m animation\u001b[38;5;241m.\u001b[39mFuncAnimation(fig, animate, frames\u001b[38;5;241m=\u001b[39m\u001b[38;5;241m100\u001b[39m,\n\u001b[0;32m     38\u001b[0m                              interval\u001b[38;5;241m=\u001b[39m\u001b[38;5;241m10\u001b[39m, blit\u001b[38;5;241m=\u001b[39m\u001b[38;5;28;01mTrue\u001b[39;00m, init_func\u001b[38;5;241m=\u001b[39minit)\n\u001b[0;32m     40\u001b[0m \u001b[38;5;28;01mfrom\u001b[39;00m \u001b[38;5;21;01mIPython\u001b[39;00m\u001b[38;5;21;01m.\u001b[39;00m\u001b[38;5;21;01mdisplay\u001b[39;00m \u001b[38;5;28;01mimport\u001b[39;00m HTML\n\u001b[1;32m---> 41\u001b[0m HTML(\u001b[43mani\u001b[49m\u001b[38;5;241;43m.\u001b[39;49m\u001b[43mto_jshtml\u001b[49m\u001b[43m(\u001b[49m\u001b[43m)\u001b[49m)\n",
      "File \u001b[1;32m~\\AppData\\Roaming\\Python\\Python38\\site-packages\\matplotlib\\animation.py:1329\u001b[0m, in \u001b[0;36mAnimation.to_jshtml\u001b[1;34m(self, fps, embed_frames, default_mode)\u001b[0m\n\u001b[0;32m   1325\u001b[0m         path \u001b[38;5;241m=\u001b[39m Path(tmpdir, \u001b[38;5;124m\"\u001b[39m\u001b[38;5;124mtemp.html\u001b[39m\u001b[38;5;124m\"\u001b[39m)\n\u001b[0;32m   1326\u001b[0m         writer \u001b[38;5;241m=\u001b[39m HTMLWriter(fps\u001b[38;5;241m=\u001b[39mfps,\n\u001b[0;32m   1327\u001b[0m                             embed_frames\u001b[38;5;241m=\u001b[39membed_frames,\n\u001b[0;32m   1328\u001b[0m                             default_mode\u001b[38;5;241m=\u001b[39mdefault_mode)\n\u001b[1;32m-> 1329\u001b[0m         \u001b[38;5;28;43mself\u001b[39;49m\u001b[38;5;241;43m.\u001b[39;49m\u001b[43msave\u001b[49m\u001b[43m(\u001b[49m\u001b[38;5;28;43mstr\u001b[39;49m\u001b[43m(\u001b[49m\u001b[43mpath\u001b[49m\u001b[43m)\u001b[49m\u001b[43m,\u001b[49m\u001b[43m \u001b[49m\u001b[43mwriter\u001b[49m\u001b[38;5;241;43m=\u001b[39;49m\u001b[43mwriter\u001b[49m\u001b[43m)\u001b[49m\n\u001b[0;32m   1330\u001b[0m         \u001b[38;5;28mself\u001b[39m\u001b[38;5;241m.\u001b[39m_html_representation \u001b[38;5;241m=\u001b[39m path\u001b[38;5;241m.\u001b[39mread_text()\n\u001b[0;32m   1332\u001b[0m \u001b[38;5;28;01mreturn\u001b[39;00m \u001b[38;5;28mself\u001b[39m\u001b[38;5;241m.\u001b[39m_html_representation\n",
      "File \u001b[1;32m~\\AppData\\Roaming\\Python\\Python38\\site-packages\\matplotlib\\animation.py:1081\u001b[0m, in \u001b[0;36mAnimation.save\u001b[1;34m(self, filename, writer, fps, dpi, codec, bitrate, extra_args, metadata, extra_anim, savefig_kwargs, progress_callback)\u001b[0m\n\u001b[0;32m   1078\u001b[0m \u001b[38;5;28;01mfor\u001b[39;00m data \u001b[38;5;129;01min\u001b[39;00m \u001b[38;5;28mzip\u001b[39m(\u001b[38;5;241m*\u001b[39m[a\u001b[38;5;241m.\u001b[39mnew_saved_frame_seq() \u001b[38;5;28;01mfor\u001b[39;00m a \u001b[38;5;129;01min\u001b[39;00m all_anim]):\n\u001b[0;32m   1079\u001b[0m     \u001b[38;5;28;01mfor\u001b[39;00m anim, d \u001b[38;5;129;01min\u001b[39;00m \u001b[38;5;28mzip\u001b[39m(all_anim, data):\n\u001b[0;32m   1080\u001b[0m         \u001b[38;5;66;03m# TODO: See if turning off blit is really necessary\u001b[39;00m\n\u001b[1;32m-> 1081\u001b[0m         \u001b[43manim\u001b[49m\u001b[38;5;241;43m.\u001b[39;49m\u001b[43m_draw_next_frame\u001b[49m\u001b[43m(\u001b[49m\u001b[43md\u001b[49m\u001b[43m,\u001b[49m\u001b[43m \u001b[49m\u001b[43mblit\u001b[49m\u001b[38;5;241;43m=\u001b[39;49m\u001b[38;5;28;43;01mFalse\u001b[39;49;00m\u001b[43m)\u001b[49m\n\u001b[0;32m   1082\u001b[0m         \u001b[38;5;28;01mif\u001b[39;00m progress_callback \u001b[38;5;129;01mis\u001b[39;00m \u001b[38;5;129;01mnot\u001b[39;00m \u001b[38;5;28;01mNone\u001b[39;00m:\n\u001b[0;32m   1083\u001b[0m             progress_callback(frame_number, total_frames)\n",
      "File \u001b[1;32m~\\AppData\\Roaming\\Python\\Python38\\site-packages\\matplotlib\\animation.py:1116\u001b[0m, in \u001b[0;36mAnimation._draw_next_frame\u001b[1;34m(self, framedata, blit)\u001b[0m\n\u001b[0;32m   1112\u001b[0m \u001b[38;5;28;01mdef\u001b[39;00m \u001b[38;5;21m_draw_next_frame\u001b[39m(\u001b[38;5;28mself\u001b[39m, framedata, blit):\n\u001b[0;32m   1113\u001b[0m     \u001b[38;5;66;03m# Breaks down the drawing of the next frame into steps of pre- and\u001b[39;00m\n\u001b[0;32m   1114\u001b[0m     \u001b[38;5;66;03m# post- draw, as well as the drawing of the frame itself.\u001b[39;00m\n\u001b[0;32m   1115\u001b[0m     \u001b[38;5;28mself\u001b[39m\u001b[38;5;241m.\u001b[39m_pre_draw(framedata, blit)\n\u001b[1;32m-> 1116\u001b[0m     \u001b[38;5;28;43mself\u001b[39;49m\u001b[38;5;241;43m.\u001b[39;49m\u001b[43m_draw_frame\u001b[49m\u001b[43m(\u001b[49m\u001b[43mframedata\u001b[49m\u001b[43m)\u001b[49m\n\u001b[0;32m   1117\u001b[0m     \u001b[38;5;28mself\u001b[39m\u001b[38;5;241m.\u001b[39m_post_draw(framedata, blit)\n",
      "File \u001b[1;32m~\\AppData\\Roaming\\Python\\Python38\\site-packages\\matplotlib\\animation.py:1728\u001b[0m, in \u001b[0;36mFuncAnimation._draw_frame\u001b[1;34m(self, framedata)\u001b[0m\n\u001b[0;32m   1724\u001b[0m \u001b[38;5;28mself\u001b[39m\u001b[38;5;241m.\u001b[39m_save_seq \u001b[38;5;241m=\u001b[39m \u001b[38;5;28mself\u001b[39m\u001b[38;5;241m.\u001b[39m_save_seq[\u001b[38;5;241m-\u001b[39m\u001b[38;5;28mself\u001b[39m\u001b[38;5;241m.\u001b[39msave_count:]\n\u001b[0;32m   1726\u001b[0m \u001b[38;5;66;03m# Call the func with framedata and args. If blitting is desired,\u001b[39;00m\n\u001b[0;32m   1727\u001b[0m \u001b[38;5;66;03m# func needs to return a sequence of any artists that were modified.\u001b[39;00m\n\u001b[1;32m-> 1728\u001b[0m \u001b[38;5;28mself\u001b[39m\u001b[38;5;241m.\u001b[39m_drawn_artists \u001b[38;5;241m=\u001b[39m \u001b[38;5;28;43mself\u001b[39;49m\u001b[38;5;241;43m.\u001b[39;49m\u001b[43m_func\u001b[49m\u001b[43m(\u001b[49m\u001b[43mframedata\u001b[49m\u001b[43m,\u001b[49m\u001b[43m \u001b[49m\u001b[38;5;241;43m*\u001b[39;49m\u001b[38;5;28;43mself\u001b[39;49m\u001b[38;5;241;43m.\u001b[39;49m\u001b[43m_args\u001b[49m\u001b[43m)\u001b[49m\n\u001b[0;32m   1730\u001b[0m \u001b[38;5;28;01mif\u001b[39;00m \u001b[38;5;28mself\u001b[39m\u001b[38;5;241m.\u001b[39m_blit:\n\u001b[0;32m   1732\u001b[0m     err \u001b[38;5;241m=\u001b[39m \u001b[38;5;167;01mRuntimeError\u001b[39;00m(\u001b[38;5;124m'\u001b[39m\u001b[38;5;124mThe animation function must return a sequence \u001b[39m\u001b[38;5;124m'\u001b[39m\n\u001b[0;32m   1733\u001b[0m                        \u001b[38;5;124m'\u001b[39m\u001b[38;5;124mof Artist objects.\u001b[39m\u001b[38;5;124m'\u001b[39m)\n",
      "Input \u001b[1;32mIn [13]\u001b[0m, in \u001b[0;36manimate\u001b[1;34m(i)\u001b[0m\n\u001b[0;32m     25\u001b[0m \u001b[38;5;28;01mglobal\u001b[39;00m state, dt\n\u001b[0;32m     26\u001b[0m state_t \u001b[38;5;241m=\u001b[39m torch\u001b[38;5;241m.\u001b[39mFloatTensor(state)\n\u001b[1;32m---> 27\u001b[0m u \u001b[38;5;241m=\u001b[39m \u001b[43magent\u001b[49m\u001b[38;5;241m.\u001b[39mselect_action(state_t)\n\u001b[0;32m     28\u001b[0m action \u001b[38;5;241m=\u001b[39m unscaled_action(u, action_low \u001b[38;5;241m=\u001b[39m \u001b[38;5;241m-\u001b[39m\u001b[38;5;241m100\u001b[39m, action_high \u001b[38;5;241m=\u001b[39m \u001b[38;5;241m100\u001b[39m)\n\u001b[0;32m     29\u001b[0m state \u001b[38;5;241m=\u001b[39m get_next_state(state,u,dt)\n",
      "\u001b[1;31mNameError\u001b[0m: name 'agent' is not defined"
     ]
    },
    {
     "data": {
      "application/vnd.jupyter.widget-view+json": {
       "model_id": "673a37720e83490e89c4b86a73ef273e",
       "version_major": 2,
       "version_minor": 0
      },
      "image/png": "[encoded data removed]",
      "text/html": [
       "\n",
       "            <div style=\"display: inline-block;\">\n",
       "                <div class=\"jupyter-widgets widget-label\" style=\"text-align: center;\">\n",
       "                    Figure\n",
       "                </div>\n",
       "                <img src='data:image/png;base64,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' width=432.0/>\n",
       "            </div>\n",
       "        "
      ],
      "text/plain": [
       "Canvas(toolbar=Toolbar(toolitems=[('Home', 'Reset original view', 'home', 'home'), ('Back', 'Back to previous …"
      ]
     },
     "metadata": {},
     "output_type": "display_data"
    }
   ],
   "source": [
    "from matplotlib import animation\n",
    "%matplotlib widget\n",
    "\n",
    "state = state0\n",
    "\n",
    "dt = 0.1\n",
    "fig = plt.figure()\n",
    "ax = fig.add_subplot(111, aspect='equal', autoscale_on=False,\n",
    "                     xlim=(-2, 2), ylim=(-2, 2))\n",
    "ax.grid()\n",
    "\n",
    "line, = ax.plot([], [], 'o-', lw=2)\n",
    "energy_text = ax.text(0.02, 0.90, '', transform=ax.transAxes)\n",
    "\n",
    "def init():\n",
    "    \"\"\"initialize animation\"\"\"\n",
    "    line.set_data([], [])\n",
    "    #time_text.set_text('')\n",
    "    energy_text.set_text('')\n",
    "    return line\n",
    "\n",
    "\n",
    "def animate(i):\n",
    "    \"\"\"perform animation step\"\"\"\n",
    "    global state, dt\n",
    "    state_t = torch.FloatTensor(state)\n",
    "    u = agent.select_action(state_t)\n",
    "    action = unscaled_action(u, action_low = -100, action_high = 100)\n",
    "    state = get_next_state(state,u,dt)\n",
    "    XY = state_to_coords(state)\n",
    "    en = get_energy(state)\n",
    "    \n",
    "    line.set_data(XY[0],XY[1])\n",
    "    energy_text.set_text(f'energy = {en}')\n",
    "    return line,\n",
    "\n",
    "ani = animation.FuncAnimation(fig, animate, frames=100,\n",
    "                             interval=10, blit=True, init_func=init)\n",
    "\n",
    "from IPython.display import HTML\n",
    "HTML(ani.to_jshtml())"
   ]
  },
  {
   "cell_type": "code",
   "execution_count": null,
   "id": "9466af0b",
   "metadata": {},
   "outputs": [],
   "source": []
  }
 ],
 "metadata": {
  "kernelspec": {
   "display_name": "Python 3",
   "language": "python",
   "name": "python3"
  },
  "language_info": {
   "codemirror_mode": {
    "name": "ipython",
    "version": 3
   },
   "file_extension": ".py",
   "mimetype": "text/x-python",
   "name": "python",
   "nbconvert_exporter": "python",
   "pygments_lexer": "ipython3",
   "version": "3.8.8"
  },
  "toc": {
   "base_numbering": 1,
   "nav_menu": {},
   "number_sections": false,
   "sideBar": true,
   "skip_h1_title": false,
   "title_cell": "Table of Contents",
   "title_sidebar": "Contents",
   "toc_cell": false,
   "toc_position": {},
   "toc_section_display": true,
   "toc_window_display": false
  }
 },
 "nbformat": 4,
 "nbformat_minor": 5
}
