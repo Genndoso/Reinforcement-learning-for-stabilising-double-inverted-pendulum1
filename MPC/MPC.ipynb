{
 "cells": [
  {
   "cell_type": "code",
   "execution_count": 1,
   "id": "c98dc2b4-4efa-4fab-b60e-f1accf0d0c85",
   "metadata": {},
   "outputs": [],
   "source": [
    "import sys\n",
    "sys.path.append('C:\\\\Users\\\\Максимилиан\\\\Desktop\\\\Skoltech\\\\Reinforcement learning\\\\Final project')\n",
    "import Dynamics\n",
    "from casadi import *\n",
    "from IPython.display import HTML\n",
    "import Environment\n",
    "import gym"
   ]
  },
  {
   "cell_type": "markdown",
   "id": "06586e9a-282e-4347-a81d-f14311576535",
   "metadata": {
    "jp-MarkdownHeadingCollapsed": true,
    "tags": []
   },
   "source": [
    "### hyperparameters"
   ]
  },
  {
   "cell_type": "code",
   "execution_count": 2,
   "id": "8a5b53be-1329-4349-920c-cdf663abde66",
   "metadata": {},
   "outputs": [],
   "source": [
    "T = 0.4 # MPC horizon\n",
    "N = 8 # horion divides on N steps\n",
    "\n",
    "# boundary conditions\n",
    "U_MAX = 20 \n",
    "U_MIN = - U_MAX\n",
    "\n"
   ]
  },
  {
   "cell_type": "markdown",
   "id": "1f419832-99d7-4362-81ce-ff56260d6c88",
   "metadata": {
    "jp-MarkdownHeadingCollapsed": true,
    "tags": []
   },
   "source": [
    "### Creation of integrator\n",
    "$\n",
    "\\dot{\n",
    "\\begin{pmatrix}\n",
    "     {\\phi} \\\\\n",
    "     {\\phi}\n",
    "\\end{pmatrix}} = \n",
    "\\begin{pmatrix}\n",
    "     {\\dot{\\phi}} \\\\\n",
    "     {rhs}\n",
    "\\end{pmatrix}\n",
    "$"
   ]
  },
  {
   "cell_type": "code",
   "execution_count": 3,
   "id": "67e904d5-84b0-41cf-8cb8-c984788c9085",
   "metadata": {},
   "outputs": [],
   "source": [
    "x = vertcat(Dynamics.phi,Dynamics.dphi)\n",
    "u = Dynamics.u\n",
    "\n",
    "ode = Dynamics.my_rhs(x[:3],x[3:],u)\n",
    "dae = {'x':x, 'p':u, 'ode':ode}\n",
    "intg_options = {'tf': T/N}\n",
    "\n",
    "intg = integrator('intg','rk',dae,intg_options)"
   ]
  },
  {
   "cell_type": "markdown",
   "id": "92f76394-4b0e-477b-8fbc-6b7d43181170",
   "metadata": {
    "jp-MarkdownHeadingCollapsed": true,
    "tags": []
   },
   "source": [
    "### Problem dimention"
   ]
  },
  {
   "cell_type": "code",
   "execution_count": 4,
   "id": "b0b3b7de-42e9-4a8d-91c9-9b84e0f81fc9",
   "metadata": {},
   "outputs": [],
   "source": [
    "x_dim = 6\n",
    "u_dim = 1"
   ]
  },
  {
   "cell_type": "markdown",
   "id": "ddaa1236-d2ca-45ae-88a2-e94dd656255f",
   "metadata": {
    "tags": []
   },
   "source": [
    "### MPC formulation"
   ]
  },
  {
   "cell_type": "markdown",
   "id": "e7d7f12b-6b6e-489f-b39a-500a7bedaea5",
   "metadata": {
    "jp-MarkdownHeadingCollapsed": true,
    "tags": []
   },
   "source": [
    "#### initialization"
   ]
  },
  {
   "cell_type": "code",
   "execution_count": 5,
   "id": "0e2e0122-6f4a-48db-82c4-8e0d05ddf442",
   "metadata": {},
   "outputs": [],
   "source": [
    "opti = casadi.Opti()\n",
    "x = opti.variable(x_dim*(N+1)) # all state history shape x_dim*(N+1)\n",
    "u = opti.variable(u_dim *N) # u history\n",
    "x0 = opti.parameter(x_dim) # initial x0 state\n",
    "xgoal = opti.parameter(x_dim*(N+1)) # goal state\n",
    "\n",
    "# opti.parameter is const, we will set up it latter\n",
    "# opti.variable will be variated by casadi methods"
   ]
  },
  {
   "cell_type": "markdown",
   "id": "cd8bd537-68c0-40b9-b1a1-3831441127c1",
   "metadata": {
    "jp-MarkdownHeadingCollapsed": true,
    "tags": []
   },
   "source": [
    "#### constraints and conditions"
   ]
  },
  {
   "cell_type": "code",
   "execution_count": 6,
   "id": "48929b4c-9cd5-4bbd-87f9-cd6c57cdf998",
   "metadata": {},
   "outputs": [],
   "source": [
    "weights = [0,1,1,0,0,0] # ТУУУУУТ ВЕСА ВЕСА ТУУУУУУУТ\n",
    "\n",
    "dx = x - xgoal # error\n",
    "weighted_sum = dx.T @ np.diag(weights * (N+1)) @dx \n",
    "\n",
    "opti.minimize(weighted_sum) # try minimize error\n",
    "\n",
    "opti.subject_to(x[0:x_dim] == x0)\n",
    "for k in range(1,N+1):\n",
    "    opti.subject_to(x[k*x_dim : (k+1)*x_dim] == \\\n",
    "                    intg(x0 = x[(k-1)*x_dim : k*x_dim],p = u[(k-1)*u_dim : k*u_dim])['xf'])\n",
    "\n",
    "for i in range(N):\n",
    "        opti.subject_to(opti.bounded(U_MIN,u[i*u_dim],U_MAX))"
   ]
  },
  {
   "cell_type": "markdown",
   "id": "1885a87a-6d13-45c4-9bc6-492d396d9802",
   "metadata": {
    "jp-MarkdownHeadingCollapsed": true,
    "tags": []
   },
   "source": [
    "#### constract solver from \"opti\" settings"
   ]
  },
  {
   "cell_type": "code",
   "execution_count": 7,
   "id": "d2fc58cf-fd2e-4c2e-9fef-c535117d60cd",
   "metadata": {},
   "outputs": [
    {
     "data": {
      "text/plain": [
       "Function(MPC:(x0[6],xgoal[54])->(u_opt[8]) MXFunction)"
      ]
     },
     "execution_count": 7,
     "metadata": {},
     "output_type": "execute_result"
    }
   ],
   "source": [
    "opti_options = {'print_in':False, 'print_out':False, 'print_time':False}\n",
    "solver_options = {'print_level' : 0}\n",
    "\n",
    "opti.solver('ipopt',opti_options,solver_options)\n",
    "mpc = opti.to_function(\"MPC\",[x0,xgoal],[u],[\"x0\",\"xgoal\"],[\"u_opt\"])\n",
    "mpc"
   ]
  },
  {
   "cell_type": "markdown",
   "id": "950da678-22a8-42df-8e9c-2abcde6cb8d2",
   "metadata": {
    "jp-MarkdownHeadingCollapsed": true,
    "tags": []
   },
   "source": [
    "###  Environment testing"
   ]
  },
  {
   "cell_type": "code",
   "execution_count": 8,
   "id": "a825d389-ac39-4f8c-9acd-5415141ad1eb",
   "metadata": {},
   "outputs": [
    {
     "name": "stdout",
     "output_type": "stream",
     "text": [
      "Environment initialized\n"
     ]
    }
   ],
   "source": [
    "env = Environment.DoublePendulumEnv([0,3.14/2,3.14/2,0,0,0],dt = T/N ) # initialise system\n",
    "x_calc_goal = np.array([0,np.pi/2,np.pi/2,0,0,0]*(N+1),dtype = float) # state_goal"
   ]
  },
  {
   "cell_type": "markdown",
   "id": "251d29ce-6a8c-44db-9a07-f5a0a8ff9923",
   "metadata": {},
   "source": [
    "#### loop\n",
    "* x = env.state\n",
    "* u = mpc(x,goal)  - give optimal u variable with shape u_dim * N\n",
    "* env.step(u[0]) - apply first action\n"
   ]
  },
  {
   "cell_type": "code",
   "execution_count": null,
   "id": "cab96a4a-780b-4137-8b5f-13449af25d9b",
   "metadata": {},
   "outputs": [
    {
     "name": "stdout",
     "output_type": "stream",
     "text": [
      "\n",
      "******************************************************************************\n",
      "This program contains Ipopt, a library for large-scale nonlinear optimization.\n",
      " Ipopt is released as open source code under the Eclipse Public License (EPL).\n",
      "         For more information visit http://projects.coin-or.org/Ipopt\n",
      "******************************************************************************\n",
      "\n"
     ]
    }
   ],
   "source": [
    "env.reset()\n",
    "x0_calc = env.state\n",
    "NumSteps = 150\n",
    "\n",
    "X_story = [0]*NumSteps\n",
    "X_story[0] = x0_calc\n",
    "X_real = [0]*NumSteps\n",
    "X_real[0] = x0_calc\n",
    "U_hist = []\n",
    "\n",
    "for i in range(1,NumSteps):\n",
    "    u = mpc(env.state,x_calc_goal).full()\n",
    "    u = u[0]\n",
    "    U_hist.append(u)\n",
    "    env.step(u)\n",
    "    \n",
    "    x0_calc = intg(x0 = x0_calc,p = u)['xf'].full() # it is integrator from mpc for testing consistency of predictions between env and mpc\n",
    "    X_real[i] = env.state\n",
    "    X_story[i] = np.array(x0_calc)"
   ]
  },
  {
   "cell_type": "code",
   "execution_count": null,
   "id": "9d82e2da-020f-4e23-b207-0abc3a9bd698",
   "metadata": {},
   "outputs": [],
   "source": [
    "ani = env.render()\n",
    "HTML(ani.to_jshtml())"
   ]
  },
  {
   "cell_type": "code",
   "execution_count": null,
   "id": "9ef53633-39a6-4fad-904f-d3e338e81b03",
   "metadata": {},
   "outputs": [],
   "source": [
    "env.state_history[0]"
   ]
  },
  {
   "cell_type": "code",
   "execution_count": null,
   "id": "3d522c5c-e058-45cc-97c9-05f66de6ee1f",
   "metadata": {},
   "outputs": [],
   "source": [
    "x_calc_goal"
   ]
  },
  {
   "cell_type": "code",
   "execution_count": null,
   "id": "88731fe8-1e8d-4985-a5d5-621db0bbf3f8",
   "metadata": {},
   "outputs": [],
   "source": [
    "U_hist"
   ]
  },
  {
   "cell_type": "code",
   "execution_count": null,
   "id": "85b5270e-c101-4aaf-a1a4-bff3b3f87916",
   "metadata": {},
   "outputs": [],
   "source": [
    "dx @ np.array([[10,10],[10,10]])"
   ]
  },
  {
   "cell_type": "code",
   "execution_count": null,
   "id": "8742de4b-bdbb-44bc-8d28-83f02d6071ab",
   "metadata": {},
   "outputs": [],
   "source": []
  },
  {
   "cell_type": "code",
   "execution_count": null,
   "id": "46455cec-f31f-41b0-bcde-b731e01ab0fd",
   "metadata": {},
   "outputs": [],
   "source": []
  }
 ],
 "metadata": {
  "kernelspec": {
   "display_name": "Python 3",
   "language": "python",
   "name": "python3"
  },
  "language_info": {
   "codemirror_mode": {
    "name": "ipython",
    "version": 3
   },
   "file_extension": ".py",
   "mimetype": "text/x-python",
   "name": "python",
   "nbconvert_exporter": "python",
   "pygments_lexer": "ipython3",
   "version": "3.8.8"
  },
  "toc": {
   "base_numbering": 1,
   "nav_menu": {},
   "number_sections": true,
   "sideBar": true,
   "skip_h1_title": false,
   "title_cell": "Table of Contents",
   "title_sidebar": "Contents",
   "toc_cell": false,
   "toc_position": {},
   "toc_section_display": true,
   "toc_window_display": false
  }
 },
 "nbformat": 4,
 "nbformat_minor": 5
}
